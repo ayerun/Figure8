{
 "cells": [
  {
   "cell_type": "code",
   "execution_count": 1,
   "metadata": {},
   "outputs": [
    {
     "data": {
      "text/latex": [
       "$\\displaystyle \\omega{\\left(t \\right)} = \\frac{\\frac{d}{d t} x{\\left(t \\right)} \\frac{d^{2}}{d t^{2}} y{\\left(t \\right)} - \\frac{d^{2}}{d t^{2}} x{\\left(t \\right)} \\frac{d}{d t} y{\\left(t \\right)}}{\\left(\\frac{d}{d t} x{\\left(t \\right)}\\right)^{2} + \\left(\\frac{d}{d t} y{\\left(t \\right)}\\right)^{2}}$"
      ],
      "text/plain": [
       "Eq(\\omega(t), (Derivative(x(t), t)*Derivative(y(t), (t, 2)) - Derivative(x(t), (t, 2))*Derivative(y(t), t))/(Derivative(x(t), t)**2 + Derivative(y(t), t)**2))"
      ]
     },
     "metadata": {},
     "output_type": "display_data"
    },
    {
     "data": {
      "text/latex": [
       "$\\displaystyle v{\\left(t \\right)} = \\sqrt{\\left(\\frac{d}{d t} x{\\left(t \\right)}\\right)^{2} + \\left(\\frac{d}{d t} y{\\left(t \\right)}\\right)^{2}}$"
      ],
      "text/plain": [
       "Eq(v(t), sqrt(Derivative(x(t), t)**2 + Derivative(y(t), t)**2))"
      ]
     },
     "metadata": {},
     "output_type": "display_data"
    }
   ],
   "source": [
    "#Arun Kumar\n",
    "\n",
    "import sympy as sym\n",
    "from sympy.abc import t\n",
    "\n",
    "#Functions of t\n",
    "th = sym.Function(r'\\theta')(t)\n",
    "thd = sym.Function(r'\\theta_d')(t)\n",
    "v = sym.Function(r'v')(t)\n",
    "x = sym.Function(r'x')(t)\n",
    "y = sym.Function(r'y')(t)\n",
    "omega = sym.Function(r'\\omega')(t)\n",
    "xd = sym.Function(r'x_d')(t)\n",
    "yd = sym.Function(r'y_d')(t)\n",
    "vd = sym.Function(r'v_d')(t)\n",
    "wd = sym.Function(r'\\omega_d')(t)\n",
    "\n",
    "#symbols\n",
    "H,W,T = sym.symbols('H W T')\n",
    "\n",
    "#Take derivates\n",
    "xdot = x.diff(t)\n",
    "ydot = y.diff(t)\n",
    "xddot = xdot.diff(t)\n",
    "yddot = ydot.diff(t)\n",
    "thdot = th.diff(t)\n",
    "\n",
    "#solve for v and w\n",
    "#component velocity equations\n",
    "xdoteq = sym.Eq(xdot,v*sym.cos(th))\n",
    "ydoteq = sym.Eq(ydot,v*sym.sin(th))\n",
    "#solve for velocity\n",
    "vsol = sym.solve(xdoteq,[v])\n",
    "#sub in vsol for v\n",
    "ydoteq_sub = sym.simplify(ydoteq.subs({v:vsol[0]}))\n",
    "#solve for th in terms of xdot and ydot\n",
    "thsol = sym.solve(ydoteq_sub,[th])\n",
    "#calculate omega\n",
    "th_dot = sym.simplify(thsol[0].diff(t)) \n",
    "#velocity equation\n",
    "v_sol = sym.Eq(v,sym.sqrt(xdot**2+ydot**2))\n",
    "\n",
    "#Display v and w\n",
    "display(sym.Eq(omega,th_dot))\n",
    "display(v_sol)"
   ]
  },
  {
   "cell_type": "code",
   "execution_count": 9,
   "metadata": {},
   "outputs": [
    {
     "data": {
      "text/latex": [
       "$\\displaystyle \\operatorname{x_{d}}{\\left(t \\right)} = \\frac{W \\sin{\\left(\\frac{2 \\pi t}{T} \\right)}}{2}$"
      ],
      "text/plain": [
       "Eq(x_d(t), W*sin(2*pi*t/T)/2)"
      ]
     },
     "metadata": {},
     "output_type": "display_data"
    },
    {
     "data": {
      "text/latex": [
       "$\\displaystyle \\operatorname{y_{d}}{\\left(t \\right)} = \\frac{H \\sin{\\left(\\frac{4 \\pi t}{T} \\right)}}{2}$"
      ],
      "text/plain": [
       "Eq(y_d(t), H*sin(4*pi*t/T)/2)"
      ]
     },
     "metadata": {},
     "output_type": "display_data"
    },
    {
     "data": {
      "text/latex": [
       "$\\displaystyle \\frac{d}{d t} \\operatorname{x_{d}}{\\left(t \\right)} = \\frac{\\pi W \\cos{\\left(\\frac{2 \\pi t}{T} \\right)}}{T}$"
      ],
      "text/plain": [
       "Eq(Derivative(x_d(t), t), pi*W*cos(2*pi*t/T)/T)"
      ]
     },
     "metadata": {},
     "output_type": "display_data"
    },
    {
     "data": {
      "text/latex": [
       "$\\displaystyle \\frac{d}{d t} \\operatorname{y_{d}}{\\left(t \\right)} = \\frac{2 \\pi H \\cos{\\left(\\frac{4 \\pi t}{T} \\right)}}{T}$"
      ],
      "text/plain": [
       "Eq(Derivative(y_d(t), t), 2*pi*H*cos(4*pi*t/T)/T)"
      ]
     },
     "metadata": {},
     "output_type": "display_data"
    },
    {
     "data": {
      "text/latex": [
       "$\\displaystyle \\frac{d^{2}}{d t^{2}} \\operatorname{x_{d}}{\\left(t \\right)} = - \\frac{2 \\pi^{2} W \\sin{\\left(\\frac{2 \\pi t}{T} \\right)}}{T^{2}}$"
      ],
      "text/plain": [
       "Eq(Derivative(x_d(t), (t, 2)), -2*pi**2*W*sin(2*pi*t/T)/T**2)"
      ]
     },
     "metadata": {},
     "output_type": "display_data"
    },
    {
     "data": {
      "text/latex": [
       "$\\displaystyle \\frac{d^{2}}{d t^{2}} \\operatorname{y_{d}}{\\left(t \\right)} = - \\frac{8 \\pi^{2} H \\sin{\\left(\\frac{4 \\pi t}{T} \\right)}}{T^{2}}$"
      ],
      "text/plain": [
       "Eq(Derivative(y_d(t), (t, 2)), -8*pi**2*H*sin(4*pi*t/T)/T**2)"
      ]
     },
     "metadata": {},
     "output_type": "display_data"
    },
    {
     "data": {
      "text/latex": [
       "$\\displaystyle \\operatorname{v_{d}}{\\left(t \\right)} = \\pi \\sqrt{\\frac{4 H^{2} \\cos^{2}{\\left(\\frac{4 \\pi t}{T} \\right)} + W^{2} \\cos^{2}{\\left(\\frac{2 \\pi t}{T} \\right)}}{T^{2}}}$"
      ],
      "text/plain": [
       "Eq(v_d(t), pi*sqrt((4*H**2*cos(4*pi*t/T)**2 + W**2*cos(2*pi*t/T)**2)/T**2))"
      ]
     },
     "metadata": {},
     "output_type": "display_data"
    },
    {
     "data": {
      "text/latex": [
       "$\\displaystyle \\omega_{d}{\\left(t \\right)} = \\frac{4 \\pi H W \\left(\\sin{\\left(\\frac{2 \\pi t}{T} \\right)} \\cos{\\left(\\frac{4 \\pi t}{T} \\right)} - 2 \\sin{\\left(\\frac{4 \\pi t}{T} \\right)} \\cos{\\left(\\frac{2 \\pi t}{T} \\right)}\\right)}{T \\left(4 H^{2} \\cos^{2}{\\left(\\frac{4 \\pi t}{T} \\right)} + W^{2} \\cos^{2}{\\left(\\frac{2 \\pi t}{T} \\right)}\\right)}$"
      ],
      "text/plain": [
       "Eq(\\omega_d(t), 4*pi*H*W*(sin(2*pi*t/T)*cos(4*pi*t/T) - 2*sin(4*pi*t/T)*cos(2*pi*t/T))/(T*(4*H**2*cos(4*pi*t/T)**2 + W**2*cos(2*pi*t/T)**2)))"
      ]
     },
     "metadata": {},
     "output_type": "display_data"
    },
    {
     "data": {
      "text/latex": [
       "$\\displaystyle \\theta_{d}{\\left(t \\right)} = \\operatorname{atan}{\\left(\\frac{2 H \\cos{\\left(\\frac{4 \\pi t}{T} \\right)}}{W \\cos{\\left(\\frac{2 \\pi t}{T} \\right)}} \\right)}$"
      ],
      "text/plain": [
       "Eq(\\theta_d(t), atan(2*H*cos(4*pi*t/T)/(W*cos(2*pi*t/T))))"
      ]
     },
     "metadata": {},
     "output_type": "display_data"
    }
   ],
   "source": [
    "#Trajectory Equations\n",
    "x_d = W/2*sym.sin((2*sym.pi*t)/T)\n",
    "y_d = H/2*sym.sin((4*sym.pi*t)/T)\n",
    "\n",
    "#Differentiate Trajectories\n",
    "x_d_dot = x_d.diff(t)\n",
    "y_d_dot = y_d.diff(t)\n",
    "x_d_ddot = x_d_dot.diff(t)\n",
    "y_d_ddot = y_d_dot.diff(t)\n",
    "\n",
    "#Plug trajectories into v\n",
    "v_traj = sym.simplify(sym.sqrt(xdot**2+ydot**2).subs({xdot:x_d_dot,ydot:y_d_dot}))\n",
    "v_d = sym.Eq(vd,v_traj)\n",
    "\n",
    "#Plug trajectories into w\n",
    "w_traj = sym.simplify(th_dot.subs({xdot:x_d_dot,ydot:y_d_dot,xddot:x_d_ddot,yddot:y_d_ddot}))\n",
    "w_d = sym.Eq(wd,w_traj)\n",
    "\n",
    "#Find theta desired\n",
    "th_traj = sym.simplify(thsol[0].subs({ydot:y_d_dot,xdot:x_d_dot}))\n",
    "th_d = sym.Eq(thd,th_traj)\n",
    "\n",
    "#display important equations\n",
    "display(sym.Eq(xd,x_d))\n",
    "display(sym.Eq(yd,y_d))\n",
    "display(sym.Eq(xd.diff(t),x_d_dot))\n",
    "display(sym.Eq(yd.diff(t),y_d_dot))\n",
    "display(sym.Eq(xd.diff(t).diff(t),x_d_ddot))\n",
    "display(sym.Eq(yd.diff(t).diff(t),y_d_ddot))\n",
    "display(v_d)\n",
    "display(w_d)\n",
    "display(th_d)"
   ]
  }
 ],
 "metadata": {
  "kernelspec": {
   "display_name": "Python 3",
   "language": "python",
   "name": "python3"
  },
  "language_info": {
   "codemirror_mode": {
    "name": "ipython",
    "version": 3
   },
   "file_extension": ".py",
   "mimetype": "text/x-python",
   "name": "python",
   "nbconvert_exporter": "python",
   "pygments_lexer": "ipython3",
   "version": "3.8.5"
  }
 },
 "nbformat": 4,
 "nbformat_minor": 4
}
